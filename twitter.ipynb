{
 "cells": [
  {
   "cell_type": "code",
   "execution_count": 2,
   "id": "8dc7535e-a1e7-42fb-82a2-33931261b2e9",
   "metadata": {},
   "outputs": [],
   "source": [
    "import pandas as pd\n",
    "import networkx as nx\n",
    "from statistics import mean"
   ]
  },
  {
   "cell_type": "markdown",
   "id": "35d0dd53-f9a3-4ff3-b0f7-b55b113106b5",
   "metadata": {},
   "source": [
    "##  Data prepreocessing data"
   ]
  },
  {
   "cell_type": "code",
   "execution_count": 3,
   "id": "41a246d1-63a4-43bd-8ec8-43e2ae052034",
   "metadata": {},
   "outputs": [
    {
     "data": {
      "text/html": [
       "<div>\n",
       "<style scoped>\n",
       "    .dataframe tbody tr th:only-of-type {\n",
       "        vertical-align: middle;\n",
       "    }\n",
       "\n",
       "    .dataframe tbody tr th {\n",
       "        vertical-align: top;\n",
       "    }\n",
       "\n",
       "    .dataframe thead th {\n",
       "        text-align: right;\n",
       "    }\n",
       "</style>\n",
       "<table border=\"1\" class=\"dataframe\">\n",
       "  <thead>\n",
       "    <tr style=\"text-align: right;\">\n",
       "      <th></th>\n",
       "      <th>Node</th>\n",
       "      <th>feat_1</th>\n",
       "      <th>feat_2</th>\n",
       "      <th>feat_3</th>\n",
       "      <th>feat_4</th>\n",
       "      <th>feat_5</th>\n",
       "      <th>feat_6</th>\n",
       "      <th>feat_7</th>\n",
       "      <th>feat_8</th>\n",
       "      <th>feat_9</th>\n",
       "      <th>...</th>\n",
       "      <th>feat_996</th>\n",
       "      <th>feat_997</th>\n",
       "      <th>feat_998</th>\n",
       "      <th>feat_999</th>\n",
       "      <th>feat_1000</th>\n",
       "      <th>feat_1001</th>\n",
       "      <th>feat_1002</th>\n",
       "      <th>feat_1003</th>\n",
       "      <th>feat_1004</th>\n",
       "      <th>feat_1005</th>\n",
       "    </tr>\n",
       "  </thead>\n",
       "  <tbody>\n",
       "    <tr>\n",
       "      <th>0</th>\n",
       "      <td>25131190</td>\n",
       "      <td>0</td>\n",
       "      <td>0</td>\n",
       "      <td>0</td>\n",
       "      <td>0</td>\n",
       "      <td>0</td>\n",
       "      <td>0</td>\n",
       "      <td>0</td>\n",
       "      <td>0</td>\n",
       "      <td>0</td>\n",
       "      <td>...</td>\n",
       "      <td>0</td>\n",
       "      <td>0</td>\n",
       "      <td>0</td>\n",
       "      <td>0</td>\n",
       "      <td>0</td>\n",
       "      <td>0</td>\n",
       "      <td>0</td>\n",
       "      <td>0</td>\n",
       "      <td>0</td>\n",
       "      <td>0</td>\n",
       "    </tr>\n",
       "    <tr>\n",
       "      <th>1</th>\n",
       "      <td>28688895</td>\n",
       "      <td>0</td>\n",
       "      <td>0</td>\n",
       "      <td>0</td>\n",
       "      <td>0</td>\n",
       "      <td>0</td>\n",
       "      <td>0</td>\n",
       "      <td>0</td>\n",
       "      <td>0</td>\n",
       "      <td>0</td>\n",
       "      <td>...</td>\n",
       "      <td>0</td>\n",
       "      <td>0</td>\n",
       "      <td>0</td>\n",
       "      <td>0</td>\n",
       "      <td>0</td>\n",
       "      <td>0</td>\n",
       "      <td>0</td>\n",
       "      <td>0</td>\n",
       "      <td>0</td>\n",
       "      <td>0</td>\n",
       "    </tr>\n",
       "    <tr>\n",
       "      <th>2</th>\n",
       "      <td>308111730</td>\n",
       "      <td>0</td>\n",
       "      <td>0</td>\n",
       "      <td>0</td>\n",
       "      <td>0</td>\n",
       "      <td>0</td>\n",
       "      <td>0</td>\n",
       "      <td>0</td>\n",
       "      <td>0</td>\n",
       "      <td>0</td>\n",
       "      <td>...</td>\n",
       "      <td>0</td>\n",
       "      <td>0</td>\n",
       "      <td>0</td>\n",
       "      <td>0</td>\n",
       "      <td>0</td>\n",
       "      <td>0</td>\n",
       "      <td>0</td>\n",
       "      <td>0</td>\n",
       "      <td>0</td>\n",
       "      <td>0</td>\n",
       "    </tr>\n",
       "    <tr>\n",
       "      <th>3</th>\n",
       "      <td>8541492</td>\n",
       "      <td>0</td>\n",
       "      <td>0</td>\n",
       "      <td>0</td>\n",
       "      <td>0</td>\n",
       "      <td>0</td>\n",
       "      <td>0</td>\n",
       "      <td>0</td>\n",
       "      <td>0</td>\n",
       "      <td>0</td>\n",
       "      <td>...</td>\n",
       "      <td>0</td>\n",
       "      <td>0</td>\n",
       "      <td>0</td>\n",
       "      <td>0</td>\n",
       "      <td>0</td>\n",
       "      <td>0</td>\n",
       "      <td>0</td>\n",
       "      <td>0</td>\n",
       "      <td>0</td>\n",
       "      <td>0</td>\n",
       "    </tr>\n",
       "    <tr>\n",
       "      <th>4</th>\n",
       "      <td>18473279</td>\n",
       "      <td>0</td>\n",
       "      <td>0</td>\n",
       "      <td>0</td>\n",
       "      <td>0</td>\n",
       "      <td>0</td>\n",
       "      <td>0</td>\n",
       "      <td>0</td>\n",
       "      <td>0</td>\n",
       "      <td>0</td>\n",
       "      <td>...</td>\n",
       "      <td>0</td>\n",
       "      <td>0</td>\n",
       "      <td>0</td>\n",
       "      <td>0</td>\n",
       "      <td>0</td>\n",
       "      <td>0</td>\n",
       "      <td>0</td>\n",
       "      <td>0</td>\n",
       "      <td>0</td>\n",
       "      <td>0</td>\n",
       "    </tr>\n",
       "    <tr>\n",
       "      <th>...</th>\n",
       "      <td>...</td>\n",
       "      <td>...</td>\n",
       "      <td>...</td>\n",
       "      <td>...</td>\n",
       "      <td>...</td>\n",
       "      <td>...</td>\n",
       "      <td>...</td>\n",
       "      <td>...</td>\n",
       "      <td>...</td>\n",
       "      <td>...</td>\n",
       "      <td>...</td>\n",
       "      <td>...</td>\n",
       "      <td>...</td>\n",
       "      <td>...</td>\n",
       "      <td>...</td>\n",
       "      <td>...</td>\n",
       "      <td>...</td>\n",
       "      <td>...</td>\n",
       "      <td>...</td>\n",
       "      <td>...</td>\n",
       "      <td>...</td>\n",
       "    </tr>\n",
       "    <tr>\n",
       "      <th>151</th>\n",
       "      <td>117359940</td>\n",
       "      <td>0</td>\n",
       "      <td>0</td>\n",
       "      <td>0</td>\n",
       "      <td>0</td>\n",
       "      <td>0</td>\n",
       "      <td>0</td>\n",
       "      <td>0</td>\n",
       "      <td>0</td>\n",
       "      <td>0</td>\n",
       "      <td>...</td>\n",
       "      <td>0</td>\n",
       "      <td>0</td>\n",
       "      <td>0</td>\n",
       "      <td>0</td>\n",
       "      <td>0</td>\n",
       "      <td>0</td>\n",
       "      <td>0</td>\n",
       "      <td>0</td>\n",
       "      <td>0</td>\n",
       "      <td>0</td>\n",
       "    </tr>\n",
       "    <tr>\n",
       "      <th>152</th>\n",
       "      <td>12494542</td>\n",
       "      <td>1</td>\n",
       "      <td>0</td>\n",
       "      <td>0</td>\n",
       "      <td>0</td>\n",
       "      <td>0</td>\n",
       "      <td>0</td>\n",
       "      <td>0</td>\n",
       "      <td>0</td>\n",
       "      <td>0</td>\n",
       "      <td>...</td>\n",
       "      <td>0</td>\n",
       "      <td>0</td>\n",
       "      <td>0</td>\n",
       "      <td>0</td>\n",
       "      <td>0</td>\n",
       "      <td>0</td>\n",
       "      <td>0</td>\n",
       "      <td>0</td>\n",
       "      <td>0</td>\n",
       "      <td>0</td>\n",
       "    </tr>\n",
       "    <tr>\n",
       "      <th>153</th>\n",
       "      <td>3062761</td>\n",
       "      <td>0</td>\n",
       "      <td>0</td>\n",
       "      <td>0</td>\n",
       "      <td>0</td>\n",
       "      <td>0</td>\n",
       "      <td>0</td>\n",
       "      <td>0</td>\n",
       "      <td>0</td>\n",
       "      <td>0</td>\n",
       "      <td>...</td>\n",
       "      <td>0</td>\n",
       "      <td>0</td>\n",
       "      <td>0</td>\n",
       "      <td>1</td>\n",
       "      <td>1</td>\n",
       "      <td>0</td>\n",
       "      <td>0</td>\n",
       "      <td>0</td>\n",
       "      <td>0</td>\n",
       "      <td>0</td>\n",
       "    </tr>\n",
       "    <tr>\n",
       "      <th>154</th>\n",
       "      <td>14168488</td>\n",
       "      <td>0</td>\n",
       "      <td>0</td>\n",
       "      <td>0</td>\n",
       "      <td>0</td>\n",
       "      <td>0</td>\n",
       "      <td>0</td>\n",
       "      <td>0</td>\n",
       "      <td>0</td>\n",
       "      <td>0</td>\n",
       "      <td>...</td>\n",
       "      <td>0</td>\n",
       "      <td>0</td>\n",
       "      <td>0</td>\n",
       "      <td>0</td>\n",
       "      <td>0</td>\n",
       "      <td>0</td>\n",
       "      <td>0</td>\n",
       "      <td>0</td>\n",
       "      <td>0</td>\n",
       "      <td>0</td>\n",
       "    </tr>\n",
       "    <tr>\n",
       "      <th>155</th>\n",
       "      <td>15195576</td>\n",
       "      <td>0</td>\n",
       "      <td>0</td>\n",
       "      <td>0</td>\n",
       "      <td>0</td>\n",
       "      <td>0</td>\n",
       "      <td>0</td>\n",
       "      <td>0</td>\n",
       "      <td>0</td>\n",
       "      <td>0</td>\n",
       "      <td>...</td>\n",
       "      <td>0</td>\n",
       "      <td>0</td>\n",
       "      <td>0</td>\n",
       "      <td>0</td>\n",
       "      <td>0</td>\n",
       "      <td>0</td>\n",
       "      <td>0</td>\n",
       "      <td>0</td>\n",
       "      <td>0</td>\n",
       "      <td>0</td>\n",
       "    </tr>\n",
       "  </tbody>\n",
       "</table>\n",
       "<p>156 rows × 1006 columns</p>\n",
       "</div>"
      ],
      "text/plain": [
       "          Node  feat_1  feat_2  feat_3  feat_4  feat_5  feat_6  feat_7  \\\n",
       "0     25131190       0       0       0       0       0       0       0   \n",
       "1     28688895       0       0       0       0       0       0       0   \n",
       "2    308111730       0       0       0       0       0       0       0   \n",
       "3      8541492       0       0       0       0       0       0       0   \n",
       "4     18473279       0       0       0       0       0       0       0   \n",
       "..         ...     ...     ...     ...     ...     ...     ...     ...   \n",
       "151  117359940       0       0       0       0       0       0       0   \n",
       "152   12494542       1       0       0       0       0       0       0   \n",
       "153    3062761       0       0       0       0       0       0       0   \n",
       "154   14168488       0       0       0       0       0       0       0   \n",
       "155   15195576       0       0       0       0       0       0       0   \n",
       "\n",
       "     feat_8  feat_9  ...  feat_996  feat_997  feat_998  feat_999  feat_1000  \\\n",
       "0         0       0  ...         0         0         0         0          0   \n",
       "1         0       0  ...         0         0         0         0          0   \n",
       "2         0       0  ...         0         0         0         0          0   \n",
       "3         0       0  ...         0         0         0         0          0   \n",
       "4         0       0  ...         0         0         0         0          0   \n",
       "..      ...     ...  ...       ...       ...       ...       ...        ...   \n",
       "151       0       0  ...         0         0         0         0          0   \n",
       "152       0       0  ...         0         0         0         0          0   \n",
       "153       0       0  ...         0         0         0         1          1   \n",
       "154       0       0  ...         0         0         0         0          0   \n",
       "155       0       0  ...         0         0         0         0          0   \n",
       "\n",
       "     feat_1001  feat_1002  feat_1003  feat_1004  feat_1005  \n",
       "0            0          0          0          0          0  \n",
       "1            0          0          0          0          0  \n",
       "2            0          0          0          0          0  \n",
       "3            0          0          0          0          0  \n",
       "4            0          0          0          0          0  \n",
       "..         ...        ...        ...        ...        ...  \n",
       "151          0          0          0          0          0  \n",
       "152          0          0          0          0          0  \n",
       "153          0          0          0          0          0  \n",
       "154          0          0          0          0          0  \n",
       "155          0          0          0          0          0  \n",
       "\n",
       "[156 rows x 1006 columns]"
      ]
     },
     "execution_count": 3,
     "metadata": {},
     "output_type": "execute_result"
    }
   ],
   "source": [
    "node_feat = pd.read_csv('3253671.feat', delim_whitespace=True, header=None)\n",
    "node_feat.columns = ['Node'] + [f'feat_{i}' for i in range(1, node_feat.shape[1])]\n",
    "node_feat"
   ]
  },
  {
   "cell_type": "code",
   "execution_count": 4,
   "id": "89dc107d-2218-46e0-aebb-1fe69efe14e5",
   "metadata": {},
   "outputs": [
    {
     "data": {
      "text/html": [
       "<div>\n",
       "<style scoped>\n",
       "    .dataframe tbody tr th:only-of-type {\n",
       "        vertical-align: middle;\n",
       "    }\n",
       "\n",
       "    .dataframe tbody tr th {\n",
       "        vertical-align: top;\n",
       "    }\n",
       "\n",
       "    .dataframe thead th {\n",
       "        text-align: right;\n",
       "    }\n",
       "</style>\n",
       "<table border=\"1\" class=\"dataframe\">\n",
       "  <thead>\n",
       "    <tr style=\"text-align: right;\">\n",
       "      <th></th>\n",
       "      <th>node1</th>\n",
       "      <th>node2</th>\n",
       "    </tr>\n",
       "  </thead>\n",
       "  <tbody>\n",
       "    <tr>\n",
       "      <th>0</th>\n",
       "      <td>16834674</td>\n",
       "      <td>15913</td>\n",
       "    </tr>\n",
       "    <tr>\n",
       "      <th>1</th>\n",
       "      <td>3062761</td>\n",
       "      <td>14269220</td>\n",
       "    </tr>\n",
       "    <tr>\n",
       "      <th>2</th>\n",
       "      <td>1937751</td>\n",
       "      <td>16547411</td>\n",
       "    </tr>\n",
       "    <tr>\n",
       "      <th>3</th>\n",
       "      <td>4065921</td>\n",
       "      <td>14269220</td>\n",
       "    </tr>\n",
       "    <tr>\n",
       "      <th>4</th>\n",
       "      <td>6085372</td>\n",
       "      <td>14168488</td>\n",
       "    </tr>\n",
       "    <tr>\n",
       "      <th>...</th>\n",
       "      <td>...</td>\n",
       "      <td>...</td>\n",
       "    </tr>\n",
       "    <tr>\n",
       "      <th>3937</th>\n",
       "      <td>21430043</td>\n",
       "      <td>19732725</td>\n",
       "    </tr>\n",
       "    <tr>\n",
       "      <th>3938</th>\n",
       "      <td>123004655</td>\n",
       "      <td>5774432</td>\n",
       "    </tr>\n",
       "    <tr>\n",
       "      <th>3939</th>\n",
       "      <td>6834572</td>\n",
       "      <td>7159422</td>\n",
       "    </tr>\n",
       "    <tr>\n",
       "      <th>3940</th>\n",
       "      <td>2589661</td>\n",
       "      <td>15913</td>\n",
       "    </tr>\n",
       "    <tr>\n",
       "      <th>3941</th>\n",
       "      <td>8541492</td>\n",
       "      <td>6086752</td>\n",
       "    </tr>\n",
       "  </tbody>\n",
       "</table>\n",
       "<p>3942 rows × 2 columns</p>\n",
       "</div>"
      ],
      "text/plain": [
       "          node1     node2\n",
       "0      16834674     15913\n",
       "1       3062761  14269220\n",
       "2       1937751  16547411\n",
       "3       4065921  14269220\n",
       "4       6085372  14168488\n",
       "...         ...       ...\n",
       "3937   21430043  19732725\n",
       "3938  123004655   5774432\n",
       "3939    6834572   7159422\n",
       "3940    2589661     15913\n",
       "3941    8541492   6086752\n",
       "\n",
       "[3942 rows x 2 columns]"
      ]
     },
     "execution_count": 4,
     "metadata": {},
     "output_type": "execute_result"
    }
   ],
   "source": [
    "edges = pd.read_csv('3253671.edges', delim_whitespace=True, header=None,names=[\"node1\",\"node2\"])\n",
    "\n",
    "edges"
   ]
  },
  {
   "cell_type": "markdown",
   "id": "8ddfb9db-1963-430d-8d7c-80641ee22867",
   "metadata": {},
   "source": [
    "## create direct graph"
   ]
  },
  {
   "cell_type": "code",
   "execution_count": 5,
   "id": "9f03ffa6-0780-476a-9f3a-5c39e142d005",
   "metadata": {},
   "outputs": [],
   "source": [
    "G = nx.DiGraph()\n",
    "\n",
    "G.add_nodes_from(node_feat['Node'])\n",
    "\n",
    "edge = [(row['node1'], row['node2']) for index, row in edges.iterrows()]\n",
    "G.add_edges_from(edge)"
   ]
  },
  {
   "cell_type": "code",
   "execution_count": 6,
   "id": "37c60104-5083-47b7-bc25-0c559803c28a",
   "metadata": {},
   "outputs": [],
   "source": [
    "in_degrees = dict(G.in_degree())\n",
    "out_degrees = dict(G.out_degree())\n",
    "total_degrees = {node: in_degrees[node] + out_degrees[node] for node in G.nodes()}"
   ]
  },
  {
   "cell_type": "code",
   "execution_count": 7,
   "id": "da8b9227-44d9-4d57-88f5-89bc627fa84f",
   "metadata": {},
   "outputs": [
    {
     "name": "stdout",
     "output_type": "stream",
     "text": [
      "Number of nodes: 156\n",
      "Number of edges: 3942\n",
      "Maximum degree: 174\n",
      "Maximum degree: 50.53846153846154\n"
     ]
    }
   ],
   "source": [
    "print(f\"Number of nodes: {G.number_of_nodes()}\")\n",
    "print(f\"Number of edges: {G.number_of_edges()}\")\n",
    "print(f\"Maximum degree: {max(total_degrees.values())}\")\n",
    "print(f\"Maximum degree: {mean(total_degrees.values())}\")"
   ]
  },
  {
   "cell_type": "code",
   "execution_count": 8,
   "id": "c5e0e995-9b90-4db7-bd1d-0fd1d84ff0bf",
   "metadata": {},
   "outputs": [
    {
     "data": {
      "text/plain": [
       "99"
      ]
     },
     "execution_count": 8,
     "metadata": {},
     "output_type": "execute_result"
    }
   ],
   "source": [
    "max(in_degrees.values())"
   ]
  },
  {
   "cell_type": "markdown",
   "id": "b91547e3-dbc1-4672-8aaf-018f1dc1dbf9",
   "metadata": {},
   "source": [
    "## the most cited paper with ID : 35 under title 'Genetic_Algorithms'"
   ]
  },
  {
   "cell_type": "code",
   "execution_count": 9,
   "id": "8d2185b9-44c9-4d40-97ad-edf403830f5d",
   "metadata": {},
   "outputs": [
    {
     "name": "stdout",
     "output_type": "stream",
     "text": [
      "[14269220]\n"
     ]
    }
   ],
   "source": [
    "target_value = max(in_degrees.values())\n",
    "keys_with_max_value = [key for key, value in in_degrees.items() if value == target_value]\n",
    "\n",
    "print( keys_with_max_value)"
   ]
  },
  {
   "cell_type": "markdown",
   "id": "706c72da-09ac-4e83-a33d-05431bd6c8fe",
   "metadata": {},
   "source": [
    "## select only first 8 nodes in this network and calcuate adj_matrix "
   ]
  },
  {
   "cell_type": "code",
   "execution_count": 11,
   "id": "e358690e-e671-4bfa-b70d-555c485bcb64",
   "metadata": {},
   "outputs": [
    {
     "name": "stdout",
     "output_type": "stream",
     "text": [
      "[25131190, 28688895, 308111730, 8541492, 18473279, 23739142, 15642031, 15394673]\n"
     ]
    }
   ],
   "source": [
    "first_8_nodes = list(node_feat['Node'][:8])\n",
    "print(first_8_nodes)\n"
   ]
  },
  {
   "cell_type": "code",
   "execution_count": 12,
   "id": "110ad956-3eac-4b1f-8adb-62b66cf39ad0",
   "metadata": {},
   "outputs": [],
   "source": [
    "subgraph=G.subgraph(first_8_nodes)"
   ]
  },
  {
   "cell_type": "code",
   "execution_count": 13,
   "id": "5591b8d3-e179-4fdb-a79c-4fc85e127eaf",
   "metadata": {},
   "outputs": [
    {
     "data": {
      "text/plain": [
       "8"
      ]
     },
     "execution_count": 13,
     "metadata": {},
     "output_type": "execute_result"
    }
   ],
   "source": [
    "subgraph.number_of_nodes()"
   ]
  },
  {
   "cell_type": "code",
   "execution_count": 14,
   "id": "ad443def-29df-497c-98df-d43c456cbd4e",
   "metadata": {},
   "outputs": [
    {
     "data": {
      "text/plain": [
       "0"
      ]
     },
     "execution_count": 14,
     "metadata": {},
     "output_type": "execute_result"
    }
   ],
   "source": [
    "subgraph.number_of_edges()"
   ]
  },
  {
   "cell_type": "code",
   "execution_count": 15,
   "id": "1b6714b5-248a-4665-a870-ae326e234d6a",
   "metadata": {},
   "outputs": [],
   "source": [
    "adj_matrix = nx.to_numpy_array(subgraph)"
   ]
  },
  {
   "cell_type": "markdown",
   "id": "f0fe9fe8-d973-42f0-b957-3b9ed2c0a8a6",
   "metadata": {},
   "source": [
    "## we cannot find any  followed or following person between nodes through this subgraph"
   ]
  },
  {
   "cell_type": "code",
   "execution_count": 16,
   "id": "ae525522-0ea9-498c-b29b-2648f137172e",
   "metadata": {},
   "outputs": [
    {
     "data": {
      "text/plain": [
       "array([[0., 0., 0., 0., 0., 0., 0., 0.],\n",
       "       [0., 0., 0., 0., 0., 0., 0., 0.],\n",
       "       [0., 0., 0., 0., 0., 0., 0., 0.],\n",
       "       [0., 0., 0., 0., 0., 0., 0., 0.],\n",
       "       [0., 0., 0., 0., 0., 0., 0., 0.],\n",
       "       [0., 0., 0., 0., 0., 0., 0., 0.],\n",
       "       [0., 0., 0., 0., 0., 0., 0., 0.],\n",
       "       [0., 0., 0., 0., 0., 0., 0., 0.]])"
      ]
     },
     "execution_count": 16,
     "metadata": {},
     "output_type": "execute_result"
    }
   ],
   "source": [
    "adj_matrix"
   ]
  },
  {
   "cell_type": "code",
   "execution_count": null,
   "id": "00bf19f4-e797-4567-9f25-36660511d09a",
   "metadata": {},
   "outputs": [],
   "source": []
  }
 ],
 "metadata": {
  "kernelspec": {
   "display_name": "Python 3 (ipykernel)",
   "language": "python",
   "name": "python3"
  },
  "language_info": {
   "codemirror_mode": {
    "name": "ipython",
    "version": 3
   },
   "file_extension": ".py",
   "mimetype": "text/x-python",
   "name": "python",
   "nbconvert_exporter": "python",
   "pygments_lexer": "ipython3",
   "version": "3.8.19"
  }
 },
 "nbformat": 4,
 "nbformat_minor": 5
}
