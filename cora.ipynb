{
 "cells": [
  {
   "cell_type": "code",
   "execution_count": 6,
   "id": "8dc7535e-a1e7-42fb-82a2-33931261b2e9",
   "metadata": {},
   "outputs": [],
   "source": [
    "import pandas as pd\n",
    "import networkx as nx\n",
    "from statistics import mean"
   ]
  },
  {
   "cell_type": "markdown",
   "id": "35d0dd53-f9a3-4ff3-b0f7-b55b113106b5",
   "metadata": {},
   "source": [
    "##  Data prepreocessing data"
   ]
  },
  {
   "cell_type": "code",
   "execution_count": 8,
   "id": "41a246d1-63a4-43bd-8ec8-43e2ae052034",
   "metadata": {},
   "outputs": [
    {
     "data": {
      "text/html": [
       "<div>\n",
       "<style scoped>\n",
       "    .dataframe tbody tr th:only-of-type {\n",
       "        vertical-align: middle;\n",
       "    }\n",
       "\n",
       "    .dataframe tbody tr th {\n",
       "        vertical-align: top;\n",
       "    }\n",
       "\n",
       "    .dataframe thead th {\n",
       "        text-align: right;\n",
       "    }\n",
       "</style>\n",
       "<table border=\"1\" class=\"dataframe\">\n",
       "  <thead>\n",
       "    <tr style=\"text-align: right;\">\n",
       "      <th></th>\n",
       "      <th>Node</th>\n",
       "      <th>feat_1</th>\n",
       "      <th>feat_2</th>\n",
       "      <th>feat_3</th>\n",
       "      <th>feat_4</th>\n",
       "      <th>feat_5</th>\n",
       "      <th>feat_6</th>\n",
       "      <th>feat_7</th>\n",
       "      <th>feat_8</th>\n",
       "      <th>feat_9</th>\n",
       "      <th>...</th>\n",
       "      <th>feat_1425</th>\n",
       "      <th>feat_1426</th>\n",
       "      <th>feat_1427</th>\n",
       "      <th>feat_1428</th>\n",
       "      <th>feat_1429</th>\n",
       "      <th>feat_1430</th>\n",
       "      <th>feat_1431</th>\n",
       "      <th>feat_1432</th>\n",
       "      <th>feat_1433</th>\n",
       "      <th>type</th>\n",
       "    </tr>\n",
       "  </thead>\n",
       "  <tbody>\n",
       "    <tr>\n",
       "      <th>0</th>\n",
       "      <td>31336</td>\n",
       "      <td>0</td>\n",
       "      <td>0</td>\n",
       "      <td>0</td>\n",
       "      <td>0</td>\n",
       "      <td>0</td>\n",
       "      <td>0</td>\n",
       "      <td>0</td>\n",
       "      <td>0</td>\n",
       "      <td>0</td>\n",
       "      <td>...</td>\n",
       "      <td>0</td>\n",
       "      <td>0</td>\n",
       "      <td>1</td>\n",
       "      <td>0</td>\n",
       "      <td>0</td>\n",
       "      <td>0</td>\n",
       "      <td>0</td>\n",
       "      <td>0</td>\n",
       "      <td>0</td>\n",
       "      <td>Neural_Networks</td>\n",
       "    </tr>\n",
       "    <tr>\n",
       "      <th>1</th>\n",
       "      <td>1061127</td>\n",
       "      <td>0</td>\n",
       "      <td>0</td>\n",
       "      <td>0</td>\n",
       "      <td>0</td>\n",
       "      <td>0</td>\n",
       "      <td>0</td>\n",
       "      <td>0</td>\n",
       "      <td>0</td>\n",
       "      <td>0</td>\n",
       "      <td>...</td>\n",
       "      <td>0</td>\n",
       "      <td>1</td>\n",
       "      <td>0</td>\n",
       "      <td>0</td>\n",
       "      <td>0</td>\n",
       "      <td>0</td>\n",
       "      <td>0</td>\n",
       "      <td>0</td>\n",
       "      <td>0</td>\n",
       "      <td>Rule_Learning</td>\n",
       "    </tr>\n",
       "    <tr>\n",
       "      <th>2</th>\n",
       "      <td>1106406</td>\n",
       "      <td>0</td>\n",
       "      <td>0</td>\n",
       "      <td>0</td>\n",
       "      <td>0</td>\n",
       "      <td>0</td>\n",
       "      <td>0</td>\n",
       "      <td>0</td>\n",
       "      <td>0</td>\n",
       "      <td>0</td>\n",
       "      <td>...</td>\n",
       "      <td>0</td>\n",
       "      <td>0</td>\n",
       "      <td>0</td>\n",
       "      <td>0</td>\n",
       "      <td>0</td>\n",
       "      <td>0</td>\n",
       "      <td>0</td>\n",
       "      <td>0</td>\n",
       "      <td>0</td>\n",
       "      <td>Reinforcement_Learning</td>\n",
       "    </tr>\n",
       "    <tr>\n",
       "      <th>3</th>\n",
       "      <td>13195</td>\n",
       "      <td>0</td>\n",
       "      <td>0</td>\n",
       "      <td>0</td>\n",
       "      <td>0</td>\n",
       "      <td>0</td>\n",
       "      <td>0</td>\n",
       "      <td>0</td>\n",
       "      <td>0</td>\n",
       "      <td>0</td>\n",
       "      <td>...</td>\n",
       "      <td>0</td>\n",
       "      <td>0</td>\n",
       "      <td>0</td>\n",
       "      <td>0</td>\n",
       "      <td>0</td>\n",
       "      <td>0</td>\n",
       "      <td>0</td>\n",
       "      <td>0</td>\n",
       "      <td>0</td>\n",
       "      <td>Reinforcement_Learning</td>\n",
       "    </tr>\n",
       "    <tr>\n",
       "      <th>4</th>\n",
       "      <td>37879</td>\n",
       "      <td>0</td>\n",
       "      <td>0</td>\n",
       "      <td>0</td>\n",
       "      <td>0</td>\n",
       "      <td>0</td>\n",
       "      <td>0</td>\n",
       "      <td>0</td>\n",
       "      <td>0</td>\n",
       "      <td>0</td>\n",
       "      <td>...</td>\n",
       "      <td>0</td>\n",
       "      <td>0</td>\n",
       "      <td>0</td>\n",
       "      <td>0</td>\n",
       "      <td>0</td>\n",
       "      <td>0</td>\n",
       "      <td>0</td>\n",
       "      <td>0</td>\n",
       "      <td>0</td>\n",
       "      <td>Probabilistic_Methods</td>\n",
       "    </tr>\n",
       "    <tr>\n",
       "      <th>...</th>\n",
       "      <td>...</td>\n",
       "      <td>...</td>\n",
       "      <td>...</td>\n",
       "      <td>...</td>\n",
       "      <td>...</td>\n",
       "      <td>...</td>\n",
       "      <td>...</td>\n",
       "      <td>...</td>\n",
       "      <td>...</td>\n",
       "      <td>...</td>\n",
       "      <td>...</td>\n",
       "      <td>...</td>\n",
       "      <td>...</td>\n",
       "      <td>...</td>\n",
       "      <td>...</td>\n",
       "      <td>...</td>\n",
       "      <td>...</td>\n",
       "      <td>...</td>\n",
       "      <td>...</td>\n",
       "      <td>...</td>\n",
       "      <td>...</td>\n",
       "    </tr>\n",
       "    <tr>\n",
       "      <th>2703</th>\n",
       "      <td>1128975</td>\n",
       "      <td>0</td>\n",
       "      <td>0</td>\n",
       "      <td>0</td>\n",
       "      <td>0</td>\n",
       "      <td>0</td>\n",
       "      <td>0</td>\n",
       "      <td>0</td>\n",
       "      <td>0</td>\n",
       "      <td>0</td>\n",
       "      <td>...</td>\n",
       "      <td>0</td>\n",
       "      <td>0</td>\n",
       "      <td>0</td>\n",
       "      <td>0</td>\n",
       "      <td>0</td>\n",
       "      <td>0</td>\n",
       "      <td>0</td>\n",
       "      <td>0</td>\n",
       "      <td>0</td>\n",
       "      <td>Genetic_Algorithms</td>\n",
       "    </tr>\n",
       "    <tr>\n",
       "      <th>2704</th>\n",
       "      <td>1128977</td>\n",
       "      <td>0</td>\n",
       "      <td>0</td>\n",
       "      <td>0</td>\n",
       "      <td>0</td>\n",
       "      <td>0</td>\n",
       "      <td>0</td>\n",
       "      <td>0</td>\n",
       "      <td>0</td>\n",
       "      <td>0</td>\n",
       "      <td>...</td>\n",
       "      <td>0</td>\n",
       "      <td>0</td>\n",
       "      <td>0</td>\n",
       "      <td>0</td>\n",
       "      <td>0</td>\n",
       "      <td>0</td>\n",
       "      <td>0</td>\n",
       "      <td>0</td>\n",
       "      <td>0</td>\n",
       "      <td>Genetic_Algorithms</td>\n",
       "    </tr>\n",
       "    <tr>\n",
       "      <th>2705</th>\n",
       "      <td>1128978</td>\n",
       "      <td>0</td>\n",
       "      <td>0</td>\n",
       "      <td>0</td>\n",
       "      <td>0</td>\n",
       "      <td>0</td>\n",
       "      <td>0</td>\n",
       "      <td>0</td>\n",
       "      <td>0</td>\n",
       "      <td>0</td>\n",
       "      <td>...</td>\n",
       "      <td>0</td>\n",
       "      <td>0</td>\n",
       "      <td>0</td>\n",
       "      <td>0</td>\n",
       "      <td>0</td>\n",
       "      <td>0</td>\n",
       "      <td>0</td>\n",
       "      <td>0</td>\n",
       "      <td>0</td>\n",
       "      <td>Genetic_Algorithms</td>\n",
       "    </tr>\n",
       "    <tr>\n",
       "      <th>2706</th>\n",
       "      <td>117328</td>\n",
       "      <td>0</td>\n",
       "      <td>0</td>\n",
       "      <td>0</td>\n",
       "      <td>0</td>\n",
       "      <td>1</td>\n",
       "      <td>0</td>\n",
       "      <td>0</td>\n",
       "      <td>0</td>\n",
       "      <td>0</td>\n",
       "      <td>...</td>\n",
       "      <td>0</td>\n",
       "      <td>0</td>\n",
       "      <td>0</td>\n",
       "      <td>0</td>\n",
       "      <td>0</td>\n",
       "      <td>0</td>\n",
       "      <td>0</td>\n",
       "      <td>0</td>\n",
       "      <td>0</td>\n",
       "      <td>Case_Based</td>\n",
       "    </tr>\n",
       "    <tr>\n",
       "      <th>2707</th>\n",
       "      <td>24043</td>\n",
       "      <td>0</td>\n",
       "      <td>0</td>\n",
       "      <td>0</td>\n",
       "      <td>0</td>\n",
       "      <td>0</td>\n",
       "      <td>0</td>\n",
       "      <td>0</td>\n",
       "      <td>0</td>\n",
       "      <td>0</td>\n",
       "      <td>...</td>\n",
       "      <td>0</td>\n",
       "      <td>0</td>\n",
       "      <td>0</td>\n",
       "      <td>0</td>\n",
       "      <td>0</td>\n",
       "      <td>0</td>\n",
       "      <td>0</td>\n",
       "      <td>0</td>\n",
       "      <td>0</td>\n",
       "      <td>Neural_Networks</td>\n",
       "    </tr>\n",
       "  </tbody>\n",
       "</table>\n",
       "<p>2708 rows × 1435 columns</p>\n",
       "</div>"
      ],
      "text/plain": [
       "         Node  feat_1  feat_2  feat_3  feat_4  feat_5  feat_6  feat_7  feat_8  \\\n",
       "0       31336       0       0       0       0       0       0       0       0   \n",
       "1     1061127       0       0       0       0       0       0       0       0   \n",
       "2     1106406       0       0       0       0       0       0       0       0   \n",
       "3       13195       0       0       0       0       0       0       0       0   \n",
       "4       37879       0       0       0       0       0       0       0       0   \n",
       "...       ...     ...     ...     ...     ...     ...     ...     ...     ...   \n",
       "2703  1128975       0       0       0       0       0       0       0       0   \n",
       "2704  1128977       0       0       0       0       0       0       0       0   \n",
       "2705  1128978       0       0       0       0       0       0       0       0   \n",
       "2706   117328       0       0       0       0       1       0       0       0   \n",
       "2707    24043       0       0       0       0       0       0       0       0   \n",
       "\n",
       "      feat_9  ...  feat_1425  feat_1426  feat_1427  feat_1428  feat_1429  \\\n",
       "0          0  ...          0          0          1          0          0   \n",
       "1          0  ...          0          1          0          0          0   \n",
       "2          0  ...          0          0          0          0          0   \n",
       "3          0  ...          0          0          0          0          0   \n",
       "4          0  ...          0          0          0          0          0   \n",
       "...      ...  ...        ...        ...        ...        ...        ...   \n",
       "2703       0  ...          0          0          0          0          0   \n",
       "2704       0  ...          0          0          0          0          0   \n",
       "2705       0  ...          0          0          0          0          0   \n",
       "2706       0  ...          0          0          0          0          0   \n",
       "2707       0  ...          0          0          0          0          0   \n",
       "\n",
       "      feat_1430  feat_1431  feat_1432  feat_1433                    type  \n",
       "0             0          0          0          0         Neural_Networks  \n",
       "1             0          0          0          0           Rule_Learning  \n",
       "2             0          0          0          0  Reinforcement_Learning  \n",
       "3             0          0          0          0  Reinforcement_Learning  \n",
       "4             0          0          0          0   Probabilistic_Methods  \n",
       "...         ...        ...        ...        ...                     ...  \n",
       "2703          0          0          0          0      Genetic_Algorithms  \n",
       "2704          0          0          0          0      Genetic_Algorithms  \n",
       "2705          0          0          0          0      Genetic_Algorithms  \n",
       "2706          0          0          0          0              Case_Based  \n",
       "2707          0          0          0          0         Neural_Networks  \n",
       "\n",
       "[2708 rows x 1435 columns]"
      ]
     },
     "execution_count": 8,
     "metadata": {},
     "output_type": "execute_result"
    }
   ],
   "source": [
    "node_feat = pd.read_csv('cora.content', delim_whitespace=True, header=None)\n",
    "node_feat.columns = ['Node'] + [f'feat_{i}' for i in range(1, node_feat.shape[1]-1)]+['type']\n",
    "node_feat"
   ]
  },
  {
   "cell_type": "code",
   "execution_count": 9,
   "id": "89dc107d-2218-46e0-aebb-1fe69efe14e5",
   "metadata": {},
   "outputs": [
    {
     "data": {
      "text/html": [
       "<div>\n",
       "<style scoped>\n",
       "    .dataframe tbody tr th:only-of-type {\n",
       "        vertical-align: middle;\n",
       "    }\n",
       "\n",
       "    .dataframe tbody tr th {\n",
       "        vertical-align: top;\n",
       "    }\n",
       "\n",
       "    .dataframe thead th {\n",
       "        text-align: right;\n",
       "    }\n",
       "</style>\n",
       "<table border=\"1\" class=\"dataframe\">\n",
       "  <thead>\n",
       "    <tr style=\"text-align: right;\">\n",
       "      <th></th>\n",
       "      <th>node1</th>\n",
       "      <th>node2</th>\n",
       "    </tr>\n",
       "  </thead>\n",
       "  <tbody>\n",
       "    <tr>\n",
       "      <th>0</th>\n",
       "      <td>35</td>\n",
       "      <td>1033</td>\n",
       "    </tr>\n",
       "    <tr>\n",
       "      <th>1</th>\n",
       "      <td>35</td>\n",
       "      <td>103482</td>\n",
       "    </tr>\n",
       "    <tr>\n",
       "      <th>2</th>\n",
       "      <td>35</td>\n",
       "      <td>103515</td>\n",
       "    </tr>\n",
       "    <tr>\n",
       "      <th>3</th>\n",
       "      <td>35</td>\n",
       "      <td>1050679</td>\n",
       "    </tr>\n",
       "    <tr>\n",
       "      <th>4</th>\n",
       "      <td>35</td>\n",
       "      <td>1103960</td>\n",
       "    </tr>\n",
       "    <tr>\n",
       "      <th>...</th>\n",
       "      <td>...</td>\n",
       "      <td>...</td>\n",
       "    </tr>\n",
       "    <tr>\n",
       "      <th>5424</th>\n",
       "      <td>853116</td>\n",
       "      <td>19621</td>\n",
       "    </tr>\n",
       "    <tr>\n",
       "      <th>5425</th>\n",
       "      <td>853116</td>\n",
       "      <td>853155</td>\n",
       "    </tr>\n",
       "    <tr>\n",
       "      <th>5426</th>\n",
       "      <td>853118</td>\n",
       "      <td>1140289</td>\n",
       "    </tr>\n",
       "    <tr>\n",
       "      <th>5427</th>\n",
       "      <td>853155</td>\n",
       "      <td>853118</td>\n",
       "    </tr>\n",
       "    <tr>\n",
       "      <th>5428</th>\n",
       "      <td>954315</td>\n",
       "      <td>1155073</td>\n",
       "    </tr>\n",
       "  </tbody>\n",
       "</table>\n",
       "<p>5429 rows × 2 columns</p>\n",
       "</div>"
      ],
      "text/plain": [
       "       node1    node2\n",
       "0         35     1033\n",
       "1         35   103482\n",
       "2         35   103515\n",
       "3         35  1050679\n",
       "4         35  1103960\n",
       "...      ...      ...\n",
       "5424  853116    19621\n",
       "5425  853116   853155\n",
       "5426  853118  1140289\n",
       "5427  853155   853118\n",
       "5428  954315  1155073\n",
       "\n",
       "[5429 rows x 2 columns]"
      ]
     },
     "execution_count": 9,
     "metadata": {},
     "output_type": "execute_result"
    }
   ],
   "source": [
    "edges = pd.read_csv('cora.cites', delim_whitespace=True, header=None,names=[\"node1\",\"node2\"])\n",
    "\n",
    "edges"
   ]
  },
  {
   "cell_type": "markdown",
   "id": "8ddfb9db-1963-430d-8d7c-80641ee22867",
   "metadata": {},
   "source": [
    "## create direct graph"
   ]
  },
  {
   "cell_type": "code",
   "execution_count": 10,
   "id": "9f03ffa6-0780-476a-9f3a-5c39e142d005",
   "metadata": {},
   "outputs": [],
   "source": [
    "G = nx.DiGraph()\n",
    "\n",
    "G.add_nodes_from(node_feat['Node'])\n",
    "\n",
    "edge = [(row['node2'], row['node1']) for index, row in edges.iterrows()]\n",
    "G.add_edges_from(edge)"
   ]
  },
  {
   "cell_type": "code",
   "execution_count": 14,
   "id": "37c60104-5083-47b7-bc25-0c559803c28a",
   "metadata": {},
   "outputs": [],
   "source": [
    "in_degrees = dict(G.in_degree())\n",
    "out_degrees = dict(G.out_degree())\n",
    "total_degrees = {node: in_degrees[node] + out_degrees[node] for node in G.nodes()}"
   ]
  },
  {
   "cell_type": "code",
   "execution_count": 17,
   "id": "da8b9227-44d9-4d57-88f5-89bc627fa84f",
   "metadata": {},
   "outputs": [
    {
     "name": "stdout",
     "output_type": "stream",
     "text": [
      "Number of nodes: 2708\n",
      "Number of edges: 5429\n",
      "Maximum degree: 169\n",
      "Maximum degree: 4.0096011816839\n"
     ]
    }
   ],
   "source": [
    "print(f\"Number of nodes: {G.number_of_nodes()}\")\n",
    "print(f\"Number of edges: {G.number_of_edges()}\")\n",
    "print(f\"Maximum degree: {max(total_degrees.values())}\")\n",
    "print(f\"Maximum degree: {mean(total_degrees.values())}\")"
   ]
  },
  {
   "cell_type": "code",
   "execution_count": 18,
   "id": "c5e0e995-9b90-4db7-bd1d-0fd1d84ff0bf",
   "metadata": {},
   "outputs": [
    {
     "data": {
      "text/plain": [
       "166"
      ]
     },
     "execution_count": 18,
     "metadata": {},
     "output_type": "execute_result"
    }
   ],
   "source": [
    "max(in_degrees.values())"
   ]
  },
  {
   "cell_type": "markdown",
   "id": "b91547e3-dbc1-4672-8aaf-018f1dc1dbf9",
   "metadata": {},
   "source": [
    "## the most cited paper with ID : 35 under title 'Genetic_Algorithms'"
   ]
  },
  {
   "cell_type": "code",
   "execution_count": 19,
   "id": "8d2185b9-44c9-4d40-97ad-edf403830f5d",
   "metadata": {},
   "outputs": [
    {
     "name": "stdout",
     "output_type": "stream",
     "text": [
      "[35]\n"
     ]
    }
   ],
   "source": [
    "target_value = max(in_degrees.values())\n",
    "keys_with_max_value = [key for key, value in in_degrees.items() if value == target_value]\n",
    "\n",
    "print( keys_with_max_value)"
   ]
  },
  {
   "cell_type": "code",
   "execution_count": 20,
   "id": "a198a335-bcec-4f89-ae8e-5d9f94912abe",
   "metadata": {},
   "outputs": [
    {
     "data": {
      "text/plain": [
       "163    Genetic_Algorithms\n",
       "Name: type, dtype: object"
      ]
     },
     "execution_count": 20,
     "metadata": {},
     "output_type": "execute_result"
    }
   ],
   "source": [
    "node_feat[node_feat['Node']==35]['type']"
   ]
  },
  {
   "cell_type": "markdown",
   "id": "706c72da-09ac-4e83-a33d-05431bd6c8fe",
   "metadata": {},
   "source": [
    "## select only first 8 nodes in this network and calcuate adj_matrix "
   ]
  },
  {
   "cell_type": "code",
   "execution_count": 29,
   "id": "e358690e-e671-4bfa-b70d-555c485bcb64",
   "metadata": {},
   "outputs": [
    {
     "name": "stdout",
     "output_type": "stream",
     "text": [
      "[31336, 1061127, 1106406, 13195, 37879, 1126012, 1107140, 1102850]\n"
     ]
    }
   ],
   "source": [
    "first_8_nodes = list(node_feat['Node'][:8])\n",
    "print(first_8_nodes)\n"
   ]
  },
  {
   "cell_type": "code",
   "execution_count": 30,
   "id": "110ad956-3eac-4b1f-8adb-62b66cf39ad0",
   "metadata": {},
   "outputs": [],
   "source": [
    "subgraph=G.subgraph(first_8_nodes)"
   ]
  },
  {
   "cell_type": "code",
   "execution_count": 31,
   "id": "5591b8d3-e179-4fdb-a79c-4fc85e127eaf",
   "metadata": {},
   "outputs": [
    {
     "data": {
      "text/plain": [
       "8"
      ]
     },
     "execution_count": 31,
     "metadata": {},
     "output_type": "execute_result"
    }
   ],
   "source": [
    "subgraph.number_of_nodes()"
   ]
  },
  {
   "cell_type": "code",
   "execution_count": 32,
   "id": "ad443def-29df-497c-98df-d43c456cbd4e",
   "metadata": {},
   "outputs": [
    {
     "data": {
      "text/plain": [
       "0"
      ]
     },
     "execution_count": 32,
     "metadata": {},
     "output_type": "execute_result"
    }
   ],
   "source": [
    "subgraph.number_of_edges()"
   ]
  },
  {
   "cell_type": "code",
   "execution_count": 33,
   "id": "1b6714b5-248a-4665-a870-ae326e234d6a",
   "metadata": {},
   "outputs": [],
   "source": [
    "adj_matrix = nx.to_numpy_array(subgraph)"
   ]
  },
  {
   "cell_type": "markdown",
   "id": "f0fe9fe8-d973-42f0-b957-3b9ed2c0a8a6",
   "metadata": {},
   "source": [
    "## we cannot find any cited or citing paper between nodes through this subgraph"
   ]
  },
  {
   "cell_type": "code",
   "execution_count": 34,
   "id": "ae525522-0ea9-498c-b29b-2648f137172e",
   "metadata": {},
   "outputs": [
    {
     "data": {
      "text/plain": [
       "array([[0., 0., 0., 0., 0., 0., 0., 0.],\n",
       "       [0., 0., 0., 0., 0., 0., 0., 0.],\n",
       "       [0., 0., 0., 0., 0., 0., 0., 0.],\n",
       "       [0., 0., 0., 0., 0., 0., 0., 0.],\n",
       "       [0., 0., 0., 0., 0., 0., 0., 0.],\n",
       "       [0., 0., 0., 0., 0., 0., 0., 0.],\n",
       "       [0., 0., 0., 0., 0., 0., 0., 0.],\n",
       "       [0., 0., 0., 0., 0., 0., 0., 0.]])"
      ]
     },
     "execution_count": 34,
     "metadata": {},
     "output_type": "execute_result"
    }
   ],
   "source": [
    "adj_matrix"
   ]
  },
  {
   "cell_type": "code",
   "execution_count": null,
   "id": "00bf19f4-e797-4567-9f25-36660511d09a",
   "metadata": {},
   "outputs": [],
   "source": []
  }
 ],
 "metadata": {
  "kernelspec": {
   "display_name": "Python 3 (ipykernel)",
   "language": "python",
   "name": "python3"
  },
  "language_info": {
   "codemirror_mode": {
    "name": "ipython",
    "version": 3
   },
   "file_extension": ".py",
   "mimetype": "text/x-python",
   "name": "python",
   "nbconvert_exporter": "python",
   "pygments_lexer": "ipython3",
   "version": "3.8.19"
  }
 },
 "nbformat": 4,
 "nbformat_minor": 5
}
